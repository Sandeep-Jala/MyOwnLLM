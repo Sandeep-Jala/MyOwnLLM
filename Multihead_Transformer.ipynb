{
  "nbformat": 4,
  "nbformat_minor": 0,
  "metadata": {
    "colab": {
      "provenance": [],
      "authorship_tag": "ABX9TyN1qeZsJ3gsbJ0d5w0Q4T7L",
      "include_colab_link": true
    },
    "kernelspec": {
      "name": "python3",
      "display_name": "Python 3"
    },
    "language_info": {
      "name": "python"
    }
  },
  "cells": [
    {
      "cell_type": "markdown",
      "metadata": {
        "id": "view-in-github",
        "colab_type": "text"
      },
      "source": [
        "<a href=\"https://colab.research.google.com/github/Sandeep-Jala/MyOwnLLM/blob/main/Multihead_Transformer.ipynb\" target=\"_parent\"><img src=\"https://colab.research.google.com/assets/colab-badge.svg\" alt=\"Open In Colab\"/></a>"
      ]
    },
    {
      "cell_type": "code",
      "source": [
        "import torch\n",
        "import torch.nn as nn\n",
        "import math\n",
        "import torch.nn.functional as F\n"
      ],
      "metadata": {
        "id": "0ybQk3bsXkkT"
      },
      "execution_count": 73,
      "outputs": []
    },
    {
      "cell_type": "code",
      "execution_count": 74,
      "metadata": {
        "id": "lExSq70zUucE"
      },
      "outputs": [],
      "source": [
        "class InputEmbeddings(nn.Module):\n",
        "    def __init__(self, vocab_size, d_model):\n",
        "        super(InputEmbeddings, self).__init__()\n",
        "        self.d_model = d_model\n",
        "        self.vocab_size = vocab_size\n",
        "        self.embedding = nn.Embedding(vocab_size, d_model)\n",
        "    def forward(self, x):\n",
        "        return self.embedding(x) * math.sqrt(self.d_model)\n",
        "\n"
      ]
    },
    {
      "cell_type": "markdown",
      "source": [
        "# Now we do postional encoding"
      ],
      "metadata": {
        "id": "kRP136wWYimn"
      }
    },
    {
      "cell_type": "code",
      "source": [
        "class PositionalEncoding(nn.Module):\n",
        "    def __init__(self, d_model, max_seq_length):\n",
        "        super(PositionalEncoding, self).__init__()\n",
        "        self.d_model = d_model\n",
        "        self.max_seq_length = max_seq_length\n",
        "        Pe = torch.zeros(max_seq_length, d_model)\n",
        "        Postions = torch.arange(0,max_seq_length, dtype=torch.float).unsqueeze(1)\n",
        "        div_term = torch.exp(torch.arange(0, d_model, 2).float() * -(math.log(10000.0) / d_model))\n",
        "        Pe[:,0::2] = torch.sin(Postions * div_term)\n",
        "        Pe[:,1::2] = torch.cos(Postions * div_term)\n",
        "        self.register_buffer('Pe', Pe.unsqueeze(0))\n",
        "    def forward(self, x):\n",
        "      return x + self.Pe[:, :x.size(1)]\n"
      ],
      "metadata": {
        "id": "nrHEeZXKYMBp"
      },
      "execution_count": 75,
      "outputs": []
    },
    {
      "cell_type": "code",
      "source": [
        "# Initialize layers\n",
        "embedding_layer = InputEmbeddings(1000, 6)\n",
        "positional_encoding = PositionalEncoding(6, 1000)\n",
        "\n",
        "# Example input\n",
        "input_ids = torch.randint(0, 1000, (1, 1000))  # shape (batch_size, seq_length)\n",
        "print(input_ids.shape)\n",
        "# Apply embedding\n",
        "embedded = embedding_layer(input_ids)  # shape (1, 5, 5)\n",
        "\n",
        "# Apply positional encoding\n",
        "output = positional_encoding(embedded)\n",
        "\n",
        "print(output)"
      ],
      "metadata": {
        "colab": {
          "base_uri": "https://localhost:8080/"
        },
        "id": "yuEV5LLOZpxn",
        "outputId": "504a67e0-b1e9-438a-d392-aaa1db9f6011"
      },
      "execution_count": 76,
      "outputs": [
        {
          "output_type": "stream",
          "name": "stdout",
          "text": [
            "torch.Size([1, 1000])\n",
            "tensor([[[ 5.2561,  1.3253, -1.4101, -0.9511, -2.6186,  0.3296],\n",
            "         [-0.1340,  2.1850, -0.8530,  1.4460, -0.1336, -1.9809],\n",
            "         [ 3.7167, -1.5794, -3.4649,  5.7472,  1.9074, -0.0166],\n",
            "         ...,\n",
            "         [-5.7967,  0.0773, -0.8146, -2.2116,  0.1297,  0.9332],\n",
            "         [-5.2165,  2.8915,  1.2930,  0.0587, -4.2698, -1.1211],\n",
            "         [-0.9825, -0.2154,  2.8814, -4.0014,  3.8546,  1.3333]]],\n",
            "       grad_fn=<AddBackward0>)\n"
          ]
        }
      ]
    },
    {
      "cell_type": "markdown",
      "source": [
        "# MultiHead Attention"
      ],
      "metadata": {
        "id": "QwDeKIg1GMs1"
      }
    },
    {
      "cell_type": "code",
      "source": [
        "class MultiHeadAttention(nn.Module):\n",
        "  def __init__(self, d_model, num_heads, dropout=0.0):\n",
        "    super().__init__()\n",
        "    self.d_model = d_model\n",
        "    assert d_model % num_heads == 0, \"d_model must be divisible by num_heads\"\n",
        "    self.num_heads = num_heads\n",
        "    self.head_dim   = d_model // num_heads\n",
        "    self.query_linear = nn.Linear(d_model, d_model, bias=False)\n",
        "    self.key_linear = nn.Linear(d_model, d_model, bias=False)\n",
        "    self.value_linear = nn.Linear(d_model, d_model, bias=False)\n",
        "    self.output_linear = nn.Linear(d_model, d_model)\n",
        "\n",
        "  def split_heads(self, x, batch_size):\n",
        "    seq_length = x.size(1)\n",
        "    # we split the diemntions into multiple heads\n",
        "    x = x.reshape(batch_size, seq_length, self.num_heads, self.head_dim)\n",
        "    # Reshuffle in correct order for the attention\n",
        "    return x.permute(0, 2, 1, 3)\n",
        "\n",
        "  def compute_attention(self, query, key, value, mask=None):\n",
        "    scores = torch.matmul(query, key.transpose(-2, -1)) / (self.head_dim ** 0.5)\n",
        "    if mask is not None:\n",
        "      scores = scores.masked_fill(mask == 0, float('-inf'))\n",
        "    attention_weights = F.softmax(scores, dim=-1)\n",
        "    return torch.matmul(attention_weights, value)\n",
        "\n",
        "  def combine_heads(self, x, batch_size):\n",
        "      seq_length = x.size(1)\n",
        "      # Combine heads back to (batch_size, seq_length, d_model)\n",
        "      x = x.permute(0, 2, 1, 3).contiguous()\n",
        "      return x.view(batch_size, -1, self.d_model)\n",
        "\n",
        "  def forward(self, query, key, value, mask=None):\n",
        "      batch_size = query.size(0)\n",
        "\n",
        "      # Build the forward pass\n",
        "      query = self.split_heads(self.query_linear(query), batch_size)\n",
        "      key = self.split_heads(self.key_linear(key), batch_size)\n",
        "      value = self.split_heads(self.value_linear(value), batch_size)\n",
        "\n",
        "      attention_weights = self.compute_attention(query, key, value, mask)\n",
        "      output = self.combine_heads(attention_weights, batch_size)\n",
        "      return self.output_linear(output)\n"
      ],
      "metadata": {
        "id": "IdRLxc4pCZUU"
      },
      "execution_count": 77,
      "outputs": []
    },
    {
      "cell_type": "code",
      "source": [
        "class FeedForwardSubLayer(nn.Module):\n",
        "    def __init__(self, d_model, d_ff):\n",
        "        super().__init__()\n",
        "        self.net = nn.Sequential(\n",
        "            nn.Linear(d_model, d_ff),\n",
        "            nn.ReLU(),\n",
        "            nn.Linear(d_ff, d_model),\n",
        "        )\n",
        "    def forward(self, x):\n",
        "        return self.net(x)"
      ],
      "metadata": {
        "id": "cB_vTuyjxabA"
      },
      "execution_count": 78,
      "outputs": []
    },
    {
      "cell_type": "markdown",
      "source": [
        "# encoder Model"
      ],
      "metadata": {
        "id": "fPTGNFArMoNB"
      }
    },
    {
      "cell_type": "code",
      "source": [
        "class EncoderLayer(nn.Module):\n",
        "    def __init__(self, d_model, num_heads, d_ff, dropout):\n",
        "        super().__init__()\n",
        "        # Instantiate the layers\n",
        "        self.self_attn = MultiHeadAttention(d_model, num_heads)\n",
        "        self.ff_sublayer = FeedForwardSubLayer(d_model, d_ff)\n",
        "        self.norm1 = nn.LayerNorm(d_model)\n",
        "        self.norm2 = nn.LayerNorm(d_model)\n",
        "        self.dropout = nn.Dropout(dropout)\n",
        "\n",
        "    def forward(self, x, src_mask):\n",
        "        # Complete the forward method\n",
        "        attn_output = self.self_attn(x, x, x, src_mask)\n",
        "        x = self.norm1(x + self.dropout(attn_output))\n",
        "        ff_output = self.ff_sublayer(x)\n",
        "        x = self.norm2(x + self.dropout(ff_output))\n",
        "        return x"
      ],
      "metadata": {
        "id": "Kxsn7fY0tfLg"
      },
      "execution_count": 79,
      "outputs": []
    },
    {
      "cell_type": "code",
      "source": [
        " class TransformerEncoder(nn.Module):\n",
        "    def __init__(self, vocab_size, d_model, num_layers, num_heads, d_ff, dropout, max_seq_length):\n",
        "        super().__init__()\n",
        "        # Define the embedding, positional encoding, and encoder layers\n",
        "        self.embedding = InputEmbeddings(vocab_size, d_model)\n",
        "        self.positional_encoding = PositionalEncoding(d_model, max_seq_length)\n",
        "        self.layers = nn.ModuleList([EncoderLayer(d_model, num_heads, d_ff, dropout) for _ in range(num_layers)])\n",
        "\n",
        "    def forward(self, x, src_mask):\n",
        "        # Perform the forward pass through the layers\n",
        "        x = self.embedding(x)\n",
        "        x = self.positional_encoding(x)\n",
        "        for layer in self.layers:\n",
        "            x = layer(x, src_mask)\n",
        "        return x"
      ],
      "metadata": {
        "id": "bEDX7PAzt9tv"
      },
      "execution_count": 80,
      "outputs": []
    },
    {
      "cell_type": "code",
      "source": [
        "class ClassifierHead(nn.Module):\n",
        "    def __init__(self, d_model, num_classes):\n",
        "        super().__init__()\n",
        "        self.fc = nn.Linear(d_model, num_classes)\n",
        "\n",
        "    def forward(self, x):\n",
        "        logits = self.fc(x)\n",
        "        return F.log_softmax(logits, dim=-1)\n",
        ""
      ],
      "metadata": {
        "id": "6B5qXOQ0tUbx"
      },
      "execution_count": 81,
      "outputs": []
    },
    {
      "cell_type": "markdown",
      "source": [
        "# Decoder Layer"
      ],
      "metadata": {
        "id": "CgLaWB_xuUYN"
      }
    },
    {
      "cell_type": "code",
      "source": [
        "class DecoderLayer(nn.Module):\n",
        "    def __init__(self, d_model, num_heads, d_ff, dropout):\n",
        "        super().__init__()\n",
        "        self.self_attn = MultiHeadAttention(d_model, num_heads)\n",
        "        # Define cross-attention and a third layer normalization, remove the cross_attention if you want just decoder\n",
        "        self.cross_attn = MultiHeadAttention(d_model, num_heads)\n",
        "        self.ff_sublayer = FeedForwardSubLayer(d_model, d_ff)\n",
        "        self.norm1 = nn.LayerNorm(d_model)\n",
        "        self.norm2 = nn.LayerNorm(d_model)\n",
        "        self.norm3 = nn.LayerNorm(d_model)\n",
        "        self.dropout = nn.Dropout(dropout)\n",
        "\n",
        "    def forward(self, x, y, tgt_mask, cross_mask):\n",
        "        self_attn_output = self.self_attn(x, x, x, tgt_mask)\n",
        "        x = self.norm1(x + self.dropout(self_attn_output))\n",
        "        # Complete the forward pass\n",
        "        cross_attn_output = self.cross_attn(x,y,y,cross_mask)\n",
        "        x = self.norm2(x + self.dropout(cross_attn_output))\n",
        "        ff_output = self.ff_sublayer(x)\n",
        "        x = self.norm3(x + self.dropout(ff_output))\n",
        "        return x"
      ],
      "metadata": {
        "id": "2pTZ1Sd7uLDm"
      },
      "execution_count": 82,
      "outputs": []
    },
    {
      "cell_type": "code",
      "source": [
        "class TransformerDecoder(nn.Module):\n",
        "    def __init__(self, vocab_size, d_model, num_layers, num_heads, d_ff, dropout, max_seq_length):\n",
        "        super(TransformerDecoder, self).__init__()\n",
        "        self.embedding = InputEmbeddings(vocab_size, d_model)\n",
        "        self.positional_encoding = PositionalEncoding(d_model, max_seq_length)\n",
        "        # Define the list of decoder layers and linear layer\n",
        "        self.layers = nn.ModuleList([DecoderLayer(d_model, num_heads, d_ff, dropout) for _ in range(num_layers)])\n",
        "        # Define a linear layer to project hidden states to likelihoods\n",
        "        self.fc = nn.Linear(d_model,vocab_size)\n",
        "\n",
        "    def forward(self, x, memory, tgt_mask=None, cross_mask=None):\n",
        "            # x: (batch, tgt_len)\n",
        "            x = self.embedding(x)\n",
        "            x = self.positional_encoding(x)\n",
        "            for layer in self.layers:\n",
        "                # pass memory into each layer for cross-attention\n",
        "                x = layer(x, memory, tgt_mask, cross_mask)\n",
        "            x = self.fc(x)\n",
        "            return F.log_softmax(x, dim=-1)"
      ],
      "metadata": {
        "id": "wD8JI-YnuTys"
      },
      "execution_count": 83,
      "outputs": []
    },
    {
      "cell_type": "markdown",
      "source": [
        "Encoder-Decoder"
      ],
      "metadata": {
        "id": "D7RawknDugVp"
      }
    },
    {
      "cell_type": "code",
      "source": [
        "class Transformer(nn.Module):\n",
        "    def __init__(self, vocab_size, d_model, num_heads, num_layers, d_ff, max_seq_length, dropout):\n",
        "        super().__init__()\n",
        "        self.encoder = TransformerEncoder(vocab_size, d_model, num_layers, num_heads, d_ff, dropout, max_seq_length)\n",
        "        self.decoder = TransformerDecoder(vocab_size, d_model, num_layers, num_heads, d_ff, dropout, max_seq_length)\n",
        "\n",
        "    def forward(self, x, src_mask, tgt_mask, cross_mask):\n",
        "        # Complete the forward pass\n",
        "        encoder_output = self.encoder(x, src_mask)\n",
        "        decoder_output = self.decoder(x, encoder_output, tgt_mask, cross_mask)\n",
        "        return decoder_output\n"
      ],
      "metadata": {
        "id": "p7xpGvtCujyV"
      },
      "execution_count": 84,
      "outputs": []
    },
    {
      "cell_type": "code",
      "source": [
        "vocab_size     = 5000\n",
        "d_model        = 128\n",
        "num_heads      = 8\n",
        "num_layers     = 2\n",
        "d_ff           = 512\n",
        "max_seq_length = 30\n",
        "dropout        = 0.1\n",
        "\n",
        "model = Transformer(\n",
        "    vocab_size, d_model, num_heads,\n",
        "    num_layers, d_ff, max_seq_length, dropout\n",
        ")"
      ],
      "metadata": {
        "id": "xYuZCCqK4Sev"
      },
      "execution_count": 85,
      "outputs": []
    },
    {
      "cell_type": "code",
      "source": [
        "import torch\n",
        "def make_causal_mask(L):\n",
        "    return torch.tril(torch.ones(L, L)).bool()\n",
        "batch_size = 1\n",
        "seq_len     = 12\n",
        "x = torch.arange(seq_len, dtype=torch.long).unsqueeze(0)\n",
        "\n",
        "src_mask   = None\n",
        "tgt_mask   = make_causal_mask(seq_len)\n",
        "cross_mask = None\n",
        "\n",
        "\n",
        "model.eval()\n",
        "with torch.no_grad():\n",
        "    logits = model(x, src_mask, tgt_mask, cross_mask)\n",
        "\n",
        "print(\"forward pass successful\")\n",
        "print(\"Logits shape:\", logits.shape)  #\n",
        "\n",
        "pred_ids = logits.argmax(dim=-1)\n",
        "print(\"Predicted IDs:\", pred_ids)\n"
      ],
      "metadata": {
        "colab": {
          "base_uri": "https://localhost:8080/"
        },
        "id": "R_r1c-LDwd-4",
        "outputId": "51641269-231d-43c6-aacf-f5be9000a361"
      },
      "execution_count": 87,
      "outputs": [
        {
          "output_type": "stream",
          "name": "stdout",
          "text": [
            "forward pass successful\n",
            "Logits shape: torch.Size([1, 12, 5000])\n",
            "Predicted IDs: tensor([[ 605, 1144,   86, 1653, 2323, 3789, 2289,  290, 1673, 4775, 3652, 3130]])\n"
          ]
        }
      ]
    },
    {
      "cell_type": "code",
      "source": [],
      "metadata": {
        "id": "56puxsQJ3Cr-"
      },
      "execution_count": 86,
      "outputs": []
    }
  ]
}